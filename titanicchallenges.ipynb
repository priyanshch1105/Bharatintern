{
  "metadata": {
    "kernelspec": {
      "name": "python",
      "display_name": "Python (Pyodide)",
      "language": "python"
    },
    "language_info": {
      "codemirror_mode": {
        "name": "python",
        "version": 3
      },
      "file_extension": ".py",
      "mimetype": "text/x-python",
      "name": "python",
      "nbconvert_exporter": "python",
      "pygments_lexer": "ipython3",
      "version": "3.8"
    },
    "colab": {
      "provenance": [],
      "include_colab_link": true
    }
  },
  "nbformat_minor": 0,
  "nbformat": 4,
  "cells": [
    {
      "cell_type": "markdown",
      "metadata": {
        "id": "view-in-github",
        "colab_type": "text"
      },
      "source": [
        "<a href=\"https://colab.research.google.com/github/priyanshch1105/Bharatintern/blob/main/titanicchallenges.ipynb\" target=\"_parent\"><img src=\"https://colab.research.google.com/assets/colab-badge.svg\" alt=\"Open In Colab\"/></a>"
      ]
    },
    {
      "cell_type": "code",
      "source": [
        "import numpy as np\n",
        "import pandas as pd\n",
        "import matplotlib.pyplot as plt\n",
        "import seaborn as sns\n"
      ],
      "metadata": {
        "trusted": true,
        "id": "13xLliUmKhQe"
      },
      "outputs": [],
      "execution_count": null
    },
    {
      "cell_type": "code",
      "source": [
        "test = pd.read_csv('tested.csv')"
      ],
      "metadata": {
        "trusted": true,
        "id": "SZq3iOqPKhQn"
      },
      "outputs": [],
      "execution_count": null
    },
    {
      "cell_type": "code",
      "source": [
        "print(test.shape)"
      ],
      "metadata": {
        "trusted": true,
        "id": "246xvYPjKhQo"
      },
      "outputs": [],
      "execution_count": null
    },
    {
      "cell_type": "code",
      "source": [
        "test.head(2)"
      ],
      "metadata": {
        "trusted": true,
        "id": "tRL2GrTJKhQp",
        "outputId": "6acd4180-15e7-4f43-d1b9-4bacfbda6cee"
      },
      "outputs": [
        {
          "execution_count": 253,
          "output_type": "execute_result",
          "data": {
            "text/plain": "   PassengerId  Survived  Pclass                              Name     Sex  \\\n0          892         0       3                  Kelly, Mr. James    male   \n1          893         1       3  Wilkes, Mrs. James (Ellen Needs)  female   \n\n    Age  SibSp  Parch  Ticket    Fare Cabin Embarked  \n0  34.5      0      0  330911  7.8292   NaN        Q  \n1  47.0      1      0  363272  7.0000   NaN        S  ",
            "text/html": "<div>\n<style scoped>\n    .dataframe tbody tr th:only-of-type {\n        vertical-align: middle;\n    }\n\n    .dataframe tbody tr th {\n        vertical-align: top;\n    }\n\n    .dataframe thead th {\n        text-align: right;\n    }\n</style>\n<table border=\"1\" class=\"dataframe\">\n  <thead>\n    <tr style=\"text-align: right;\">\n      <th></th>\n      <th>PassengerId</th>\n      <th>Survived</th>\n      <th>Pclass</th>\n      <th>Name</th>\n      <th>Sex</th>\n      <th>Age</th>\n      <th>SibSp</th>\n      <th>Parch</th>\n      <th>Ticket</th>\n      <th>Fare</th>\n      <th>Cabin</th>\n      <th>Embarked</th>\n    </tr>\n  </thead>\n  <tbody>\n    <tr>\n      <th>0</th>\n      <td>892</td>\n      <td>0</td>\n      <td>3</td>\n      <td>Kelly, Mr. James</td>\n      <td>male</td>\n      <td>34.5</td>\n      <td>0</td>\n      <td>0</td>\n      <td>330911</td>\n      <td>7.8292</td>\n      <td>NaN</td>\n      <td>Q</td>\n    </tr>\n    <tr>\n      <th>1</th>\n      <td>893</td>\n      <td>1</td>\n      <td>3</td>\n      <td>Wilkes, Mrs. James (Ellen Needs)</td>\n      <td>female</td>\n      <td>47.0</td>\n      <td>1</td>\n      <td>0</td>\n      <td>363272</td>\n      <td>7.0000</td>\n      <td>NaN</td>\n      <td>S</td>\n    </tr>\n  </tbody>\n</table>\n</div>"
          },
          "metadata": {}
        }
      ],
      "execution_count": null
    },
    {
      "cell_type": "code",
      "source": [
        "test.info()"
      ],
      "metadata": {
        "trusted": true,
        "id": "7RXOWKakKhQq",
        "outputId": "18a96ffe-9cda-412d-ed08-05356106d56c"
      },
      "outputs": [
        {
          "name": "stdout",
          "text": "<class 'pandas.core.frame.DataFrame'>\nRangeIndex: 418 entries, 0 to 417\nData columns (total 12 columns):\n #   Column       Non-Null Count  Dtype  \n---  ------       --------------  -----  \n 0   PassengerId  418 non-null    int64  \n 1   Survived     418 non-null    int64  \n 2   Pclass       418 non-null    int64  \n 3   Name         418 non-null    object \n 4   Sex          418 non-null    object \n 5   Age          332 non-null    float64\n 6   SibSp        418 non-null    int64  \n 7   Parch        418 non-null    int64  \n 8   Ticket       418 non-null    object \n 9   Fare         417 non-null    float64\n 10  Cabin        91 non-null     object \n 11  Embarked     418 non-null    object \ndtypes: float64(2), int64(5), object(5)\nmemory usage: 31.1+ KB\n",
          "output_type": "stream"
        }
      ],
      "execution_count": null
    },
    {
      "cell_type": "code",
      "source": [
        "test.drop(columns=['Cabin'],inplace=True)"
      ],
      "metadata": {
        "trusted": true,
        "id": "q7o0FQ-XKhQr"
      },
      "outputs": [],
      "execution_count": null
    },
    {
      "cell_type": "code",
      "source": [
        "test.isnull().sum()"
      ],
      "metadata": {
        "trusted": true,
        "id": "CcULIKPPKhQs",
        "outputId": "ef026465-94b4-4fbb-9d1e-eddbee8940ce"
      },
      "outputs": [
        {
          "execution_count": 256,
          "output_type": "execute_result",
          "data": {
            "text/plain": "PassengerId     0\nSurvived        0\nPclass          0\nName            0\nSex             0\nAge            86\nSibSp           0\nParch           0\nTicket          0\nFare            1\nEmbarked        0\ndtype: int64"
          },
          "metadata": {}
        }
      ],
      "execution_count": null
    },
    {
      "cell_type": "code",
      "source": [
        "test['Embarked'].value_counts()"
      ],
      "metadata": {
        "trusted": true,
        "id": "hX2m2AGjKhQt",
        "outputId": "d2dc5bae-fb90-4ee6-e7c9-778be4169d99"
      },
      "outputs": [
        {
          "execution_count": 257,
          "output_type": "execute_result",
          "data": {
            "text/plain": "S    270\nC    102\nQ     46\nName: Embarked, dtype: int64"
          },
          "metadata": {}
        }
      ],
      "execution_count": null
    },
    {
      "cell_type": "code",
      "source": [
        "test['Fare'].fillna(test['Fare'].mean(),inplace=True)"
      ],
      "metadata": {
        "trusted": true,
        "id": "-twqyAwEKhQu"
      },
      "outputs": [],
      "execution_count": null
    },
    {
      "cell_type": "code",
      "source": [
        "test.isnull().sum()"
      ],
      "metadata": {
        "trusted": true,
        "id": "E7F_3tEwKhQv",
        "outputId": "0a0d4efe-fa33-4a76-89d6-589cc0ddfa20"
      },
      "outputs": [
        {
          "execution_count": 259,
          "output_type": "execute_result",
          "data": {
            "text/plain": "PassengerId     0\nSurvived        0\nPclass          0\nName            0\nSex             0\nAge            86\nSibSp           0\nParch           0\nTicket          0\nFare            0\nEmbarked        0\ndtype: int64"
          },
          "metadata": {}
        }
      ],
      "execution_count": null
    },
    {
      "cell_type": "code",
      "source": [
        "test_age=np.random.randint(test['Age'].mean()-test['Age'].std(),test['Age'].mean()+test['Age'].std(),86)"
      ],
      "metadata": {
        "trusted": true,
        "id": "1vJ484u9KhQw"
      },
      "outputs": [],
      "execution_count": null
    },
    {
      "cell_type": "code",
      "source": [
        "test['Age'][test['Age'].isnull()]=test_age"
      ],
      "metadata": {
        "trusted": true,
        "id": "2Pw_DvWYKhQx",
        "outputId": "050266a1-6a81-41d6-a096-8a27ba47ef46"
      },
      "outputs": [
        {
          "name": "stderr",
          "text": "<ipython-input-261-abf9310a3d93>:1: SettingWithCopyWarning: \nA value is trying to be set on a copy of a slice from a DataFrame\n\nSee the caveats in the documentation: https://pandas.pydata.org/pandas-docs/stable/user_guide/indexing.html#returning-a-view-versus-a-copy\n  test['Age'][test['Age'].isnull()]=test_age\n",
          "output_type": "stream"
        }
      ],
      "execution_count": null
    },
    {
      "cell_type": "code",
      "source": [
        "test.isnull().sum()"
      ],
      "metadata": {
        "trusted": true,
        "id": "XLCXyItMKhQx",
        "outputId": "c6c4aeb6-0529-4b65-88af-240dd28c3ff9"
      },
      "outputs": [
        {
          "execution_count": 262,
          "output_type": "execute_result",
          "data": {
            "text/plain": "PassengerId    0\nSurvived       0\nPclass         0\nName           0\nSex            0\nAge            0\nSibSp          0\nParch          0\nTicket         0\nFare           0\nEmbarked       0\ndtype: int64"
          },
          "metadata": {}
        }
      ],
      "execution_count": null
    },
    {
      "cell_type": "code",
      "source": [
        "#EDA"
      ],
      "metadata": {
        "trusted": true,
        "id": "2PkIk4J8KhQy"
      },
      "outputs": [],
      "execution_count": null
    },
    {
      "cell_type": "code",
      "source": [
        "test"
      ],
      "metadata": {
        "trusted": true,
        "id": "GSdroribKhQy",
        "outputId": "15672153-e715-441a-dc60-6f0252f92ef6"
      },
      "outputs": [
        {
          "execution_count": 264,
          "output_type": "execute_result",
          "data": {
            "text/plain": "     PassengerId  Survived  Pclass  \\\n0            892         0       3   \n1            893         1       3   \n2            894         0       2   \n3            895         0       3   \n4            896         1       3   \n..           ...       ...     ...   \n413         1305         0       3   \n414         1306         1       1   \n415         1307         0       3   \n416         1308         0       3   \n417         1309         0       3   \n\n                                             Name     Sex   Age  SibSp  Parch  \\\n0                                Kelly, Mr. James    male  34.5      0      0   \n1                Wilkes, Mrs. James (Ellen Needs)  female  47.0      1      0   \n2                       Myles, Mr. Thomas Francis    male  62.0      0      0   \n3                                Wirz, Mr. Albert    male  27.0      0      0   \n4    Hirvonen, Mrs. Alexander (Helga E Lindqvist)  female  22.0      1      1   \n..                                            ...     ...   ...    ...    ...   \n413                            Spector, Mr. Woolf    male  29.0      0      0   \n414                  Oliva y Ocana, Dona. Fermina  female  39.0      0      0   \n415                  Saether, Mr. Simon Sivertsen    male  38.5      0      0   \n416                           Ware, Mr. Frederick    male  27.0      0      0   \n417                      Peter, Master. Michael J    male  28.0      1      1   \n\n                 Ticket      Fare Embarked  \n0                330911    7.8292        Q  \n1                363272    7.0000        S  \n2                240276    9.6875        Q  \n3                315154    8.6625        S  \n4               3101298   12.2875        S  \n..                  ...       ...      ...  \n413           A.5. 3236    8.0500        S  \n414            PC 17758  108.9000        C  \n415  SOTON/O.Q. 3101262    7.2500        S  \n416              359309    8.0500        S  \n417                2668   22.3583        C  \n\n[418 rows x 11 columns]",
            "text/html": "<div>\n<style scoped>\n    .dataframe tbody tr th:only-of-type {\n        vertical-align: middle;\n    }\n\n    .dataframe tbody tr th {\n        vertical-align: top;\n    }\n\n    .dataframe thead th {\n        text-align: right;\n    }\n</style>\n<table border=\"1\" class=\"dataframe\">\n  <thead>\n    <tr style=\"text-align: right;\">\n      <th></th>\n      <th>PassengerId</th>\n      <th>Survived</th>\n      <th>Pclass</th>\n      <th>Name</th>\n      <th>Sex</th>\n      <th>Age</th>\n      <th>SibSp</th>\n      <th>Parch</th>\n      <th>Ticket</th>\n      <th>Fare</th>\n      <th>Embarked</th>\n    </tr>\n  </thead>\n  <tbody>\n    <tr>\n      <th>0</th>\n      <td>892</td>\n      <td>0</td>\n      <td>3</td>\n      <td>Kelly, Mr. James</td>\n      <td>male</td>\n      <td>34.5</td>\n      <td>0</td>\n      <td>0</td>\n      <td>330911</td>\n      <td>7.8292</td>\n      <td>Q</td>\n    </tr>\n    <tr>\n      <th>1</th>\n      <td>893</td>\n      <td>1</td>\n      <td>3</td>\n      <td>Wilkes, Mrs. James (Ellen Needs)</td>\n      <td>female</td>\n      <td>47.0</td>\n      <td>1</td>\n      <td>0</td>\n      <td>363272</td>\n      <td>7.0000</td>\n      <td>S</td>\n    </tr>\n    <tr>\n      <th>2</th>\n      <td>894</td>\n      <td>0</td>\n      <td>2</td>\n      <td>Myles, Mr. Thomas Francis</td>\n      <td>male</td>\n      <td>62.0</td>\n      <td>0</td>\n      <td>0</td>\n      <td>240276</td>\n      <td>9.6875</td>\n      <td>Q</td>\n    </tr>\n    <tr>\n      <th>3</th>\n      <td>895</td>\n      <td>0</td>\n      <td>3</td>\n      <td>Wirz, Mr. Albert</td>\n      <td>male</td>\n      <td>27.0</td>\n      <td>0</td>\n      <td>0</td>\n      <td>315154</td>\n      <td>8.6625</td>\n      <td>S</td>\n    </tr>\n    <tr>\n      <th>4</th>\n      <td>896</td>\n      <td>1</td>\n      <td>3</td>\n      <td>Hirvonen, Mrs. Alexander (Helga E Lindqvist)</td>\n      <td>female</td>\n      <td>22.0</td>\n      <td>1</td>\n      <td>1</td>\n      <td>3101298</td>\n      <td>12.2875</td>\n      <td>S</td>\n    </tr>\n    <tr>\n      <th>...</th>\n      <td>...</td>\n      <td>...</td>\n      <td>...</td>\n      <td>...</td>\n      <td>...</td>\n      <td>...</td>\n      <td>...</td>\n      <td>...</td>\n      <td>...</td>\n      <td>...</td>\n      <td>...</td>\n    </tr>\n    <tr>\n      <th>413</th>\n      <td>1305</td>\n      <td>0</td>\n      <td>3</td>\n      <td>Spector, Mr. Woolf</td>\n      <td>male</td>\n      <td>29.0</td>\n      <td>0</td>\n      <td>0</td>\n      <td>A.5. 3236</td>\n      <td>8.0500</td>\n      <td>S</td>\n    </tr>\n    <tr>\n      <th>414</th>\n      <td>1306</td>\n      <td>1</td>\n      <td>1</td>\n      <td>Oliva y Ocana, Dona. Fermina</td>\n      <td>female</td>\n      <td>39.0</td>\n      <td>0</td>\n      <td>0</td>\n      <td>PC 17758</td>\n      <td>108.9000</td>\n      <td>C</td>\n    </tr>\n    <tr>\n      <th>415</th>\n      <td>1307</td>\n      <td>0</td>\n      <td>3</td>\n      <td>Saether, Mr. Simon Sivertsen</td>\n      <td>male</td>\n      <td>38.5</td>\n      <td>0</td>\n      <td>0</td>\n      <td>SOTON/O.Q. 3101262</td>\n      <td>7.2500</td>\n      <td>S</td>\n    </tr>\n    <tr>\n      <th>416</th>\n      <td>1308</td>\n      <td>0</td>\n      <td>3</td>\n      <td>Ware, Mr. Frederick</td>\n      <td>male</td>\n      <td>27.0</td>\n      <td>0</td>\n      <td>0</td>\n      <td>359309</td>\n      <td>8.0500</td>\n      <td>S</td>\n    </tr>\n    <tr>\n      <th>417</th>\n      <td>1309</td>\n      <td>0</td>\n      <td>3</td>\n      <td>Peter, Master. Michael J</td>\n      <td>male</td>\n      <td>28.0</td>\n      <td>1</td>\n      <td>1</td>\n      <td>2668</td>\n      <td>22.3583</td>\n      <td>C</td>\n    </tr>\n  </tbody>\n</table>\n<p>418 rows × 11 columns</p>\n</div>"
          },
          "metadata": {}
        }
      ],
      "execution_count": null
    },
    {
      "cell_type": "code",
      "source": [
        "test.groupby(['Pclass'])['Survived'].mean()"
      ],
      "metadata": {
        "trusted": true,
        "id": "74QgIDBYKhQz",
        "outputId": "fd33bc5b-9b2a-4147-b9ff-987908b25b43"
      },
      "outputs": [
        {
          "execution_count": 265,
          "output_type": "execute_result",
          "data": {
            "text/plain": "Pclass\n1    0.467290\n2    0.322581\n3    0.330275\nName: Survived, dtype: float64"
          },
          "metadata": {}
        }
      ],
      "execution_count": null
    },
    {
      "cell_type": "code",
      "source": [
        "test.groupby(['Sex'])['Survived'].mean()"
      ],
      "metadata": {
        "trusted": true,
        "id": "FiSws2L5KhQz",
        "outputId": "3e67c56e-222e-4985-f5d7-2763404ffb6c"
      },
      "outputs": [
        {
          "execution_count": 266,
          "output_type": "execute_result",
          "data": {
            "text/plain": "Sex\nfemale    1.0\nmale      0.0\nName: Survived, dtype: float64"
          },
          "metadata": {}
        }
      ],
      "execution_count": null
    },
    {
      "cell_type": "code",
      "source": [
        "test.groupby(['Name'])['Survived'].mean()"
      ],
      "metadata": {
        "trusted": true,
        "id": "Z7KilFfPKhQ0",
        "outputId": "b6ae4142-2f67-44ce-b13b-84a33cc86e77"
      },
      "outputs": [
        {
          "execution_count": 267,
          "output_type": "execute_result",
          "data": {
            "text/plain": "Name\nAbbott, Master. Eugene Joseph                    0.0\nAbelseth, Miss. Karen Marie                      1.0\nAbelseth, Mr. Olaus Jorgensen                    0.0\nAbrahamsson, Mr. Abraham August Johannes         0.0\nAbrahim, Mrs. Joseph (Sophie Halaut Easu)        1.0\n                                                ... \nde Brito, Mr. Jose Joaquim                       0.0\nde Messemaeker, Mr. Guillaume Joseph             0.0\ndel Carlo, Mrs. Sebastiano (Argenia Genovesi)    1.0\nvan Billiard, Master. James William              0.0\nvan Billiard, Master. Walter John                0.0\nName: Survived, Length: 418, dtype: float64"
          },
          "metadata": {}
        }
      ],
      "execution_count": null
    },
    {
      "cell_type": "code",
      "source": [
        "test.groupby(['Age'])['Survived'].mean()"
      ],
      "metadata": {
        "trusted": true,
        "id": "gzrmm1zYKhQ0",
        "outputId": "db9943fd-69d4-49c6-b64c-c54101bd3566"
      },
      "outputs": [
        {
          "execution_count": 268,
          "output_type": "execute_result",
          "data": {
            "text/plain": "Age\n0.17     1.000000\n0.33     0.000000\n0.75     0.000000\n0.83     0.000000\n0.92     1.000000\n           ...   \n62.00    0.000000\n63.00    0.500000\n64.00    0.666667\n67.00    0.000000\n76.00    1.000000\nName: Survived, Length: 79, dtype: float64"
          },
          "metadata": {}
        }
      ],
      "execution_count": null
    },
    {
      "cell_type": "code",
      "source": [
        "test.groupby(['Embarked'])['Survived'].mean()"
      ],
      "metadata": {
        "trusted": true,
        "id": "RG_JDfUFKhQ1",
        "outputId": "e32e4656-3fde-4743-d2dc-9a77e4ae07bc"
      },
      "outputs": [
        {
          "execution_count": 269,
          "output_type": "execute_result",
          "data": {
            "text/plain": "Embarked\nC    0.392157\nQ    0.521739\nS    0.325926\nName: Survived, dtype: float64"
          },
          "metadata": {}
        }
      ],
      "execution_count": null
    },
    {
      "cell_type": "code",
      "source": [
        "test.groupby(['Fare'])['Survived'].mean()"
      ],
      "metadata": {
        "trusted": true,
        "id": "yZcpx_YdKhQ1",
        "outputId": "07e446eb-96a2-4c09-8b10-5e43f90ec79f"
      },
      "outputs": [
        {
          "execution_count": 270,
          "output_type": "execute_result",
          "data": {
            "text/plain": "Fare\n0.0000      0.0\n3.1708      0.0\n6.4375      0.0\n6.4958      0.0\n6.9500      1.0\n           ... \n227.5250    0.0\n247.5208    1.0\n262.3750    0.6\n263.0000    1.0\n512.3292    1.0\nName: Survived, Length: 170, dtype: float64"
          },
          "metadata": {}
        }
      ],
      "execution_count": null
    },
    {
      "cell_type": "code",
      "source": [
        "test.isnull().sum()"
      ],
      "metadata": {
        "trusted": true,
        "id": "N7tHpTTeKhQ2",
        "outputId": "73217e43-a03a-46c4-f007-cec646de794e"
      },
      "outputs": [
        {
          "execution_count": 271,
          "output_type": "execute_result",
          "data": {
            "text/plain": "PassengerId    0\nSurvived       0\nPclass         0\nName           0\nSex            0\nAge            0\nSibSp          0\nParch          0\nTicket         0\nFare           0\nEmbarked       0\ndtype: int64"
          },
          "metadata": {}
        }
      ],
      "execution_count": null
    },
    {
      "cell_type": "code",
      "source": [
        "sns.distplot(test['Age'][test['Survived']==0])\n",
        "sns.distplot(test['Age'][test['Survived']==1])\n"
      ],
      "metadata": {
        "trusted": true,
        "id": "NyjF31DoKhQ3"
      },
      "outputs": [],
      "execution_count": null
    },
    {
      "cell_type": "code",
      "source": [
        "sns.distplot(test['Fare'][test['Survived']==0])\n",
        "sns.distplot(test['Fare'][test['Survived']==1])\n"
      ],
      "metadata": {
        "trusted": true,
        "id": "C_ZNHfavKhQ4"
      },
      "outputs": [],
      "execution_count": null
    },
    {
      "cell_type": "code",
      "source": [
        "test.isnull().sum()"
      ],
      "metadata": {
        "trusted": true,
        "id": "zIOzZ_GfKhQ4"
      },
      "outputs": [],
      "execution_count": null
    },
    {
      "cell_type": "code",
      "source": [
        "test.drop(columns=['Ticket'],inplace=True)"
      ],
      "metadata": {
        "trusted": true,
        "id": "NHeP55YGKhQ5"
      },
      "outputs": [],
      "execution_count": null
    },
    {
      "cell_type": "code",
      "source": [
        "test['family']=test['SibSp']+test['Parch']+1"
      ],
      "metadata": {
        "trusted": true,
        "id": "ODSBtxrYKhQ5"
      },
      "outputs": [],
      "execution_count": null
    },
    {
      "cell_type": "code",
      "source": [
        "test['family'].value_counts()"
      ],
      "metadata": {
        "trusted": true,
        "id": "rze4pDtNKhQ6",
        "outputId": "78c3070d-c718-4d5c-ea5e-8b302e7a4936"
      },
      "outputs": [
        {
          "execution_count": 277,
          "output_type": "execute_result",
          "data": {
            "text/plain": "1     253\n2      74\n3      57\n4      14\n5       7\n7       4\n11      4\n6       3\n8       2\nName: family, dtype: int64"
          },
          "metadata": {}
        }
      ],
      "execution_count": null
    },
    {
      "cell_type": "code",
      "source": [
        "test.groupby(['family'])['Survived'].mean()"
      ],
      "metadata": {
        "trusted": true,
        "id": "ubk9PETkKhQ6",
        "outputId": "ac515a95-b4fb-49ce-ffc4-1be8216231b7"
      },
      "outputs": [
        {
          "execution_count": 278,
          "output_type": "execute_result",
          "data": {
            "text/plain": "family\n1     0.268775\n2     0.486486\n3     0.526316\n4     0.714286\n5     0.285714\n6     0.666667\n7     0.250000\n8     0.500000\n11    0.500000\nName: Survived, dtype: float64"
          },
          "metadata": {}
        }
      ],
      "execution_count": null
    },
    {
      "cell_type": "code",
      "source": [
        "def cal(number):\n",
        "    if number == 1:\n",
        "        return \"Alone\"\n",
        "    elif number>1 and number<5:\n",
        "        return \"Medium\"\n",
        "    else:\n",
        "        return \"Large\""
      ],
      "metadata": {
        "trusted": true,
        "id": "1OKaMSBuKhQ7"
      },
      "outputs": [],
      "execution_count": null
    },
    {
      "cell_type": "code",
      "source": [
        "test['family_size']=test['family'].apply(cal)"
      ],
      "metadata": {
        "trusted": true,
        "id": "6fO7m03OKhQ7"
      },
      "outputs": [],
      "execution_count": null
    },
    {
      "cell_type": "code",
      "source": [
        "test.head()"
      ],
      "metadata": {
        "trusted": true,
        "id": "RsmNAVUDKhQ8",
        "outputId": "23eb28fe-93af-433e-cccd-2c1341911c6f"
      },
      "outputs": [
        {
          "execution_count": 281,
          "output_type": "execute_result",
          "data": {
            "text/plain": "   PassengerId  Survived  Pclass  \\\n0          892         0       3   \n1          893         1       3   \n2          894         0       2   \n3          895         0       3   \n4          896         1       3   \n\n                                           Name     Sex   Age  SibSp  Parch  \\\n0                              Kelly, Mr. James    male  34.5      0      0   \n1              Wilkes, Mrs. James (Ellen Needs)  female  47.0      1      0   \n2                     Myles, Mr. Thomas Francis    male  62.0      0      0   \n3                              Wirz, Mr. Albert    male  27.0      0      0   \n4  Hirvonen, Mrs. Alexander (Helga E Lindqvist)  female  22.0      1      1   \n\n      Fare Embarked  family family_size  \n0   7.8292        Q       1       Alone  \n1   7.0000        S       2      Medium  \n2   9.6875        Q       1       Alone  \n3   8.6625        S       1       Alone  \n4  12.2875        S       3      Medium  ",
            "text/html": "<div>\n<style scoped>\n    .dataframe tbody tr th:only-of-type {\n        vertical-align: middle;\n    }\n\n    .dataframe tbody tr th {\n        vertical-align: top;\n    }\n\n    .dataframe thead th {\n        text-align: right;\n    }\n</style>\n<table border=\"1\" class=\"dataframe\">\n  <thead>\n    <tr style=\"text-align: right;\">\n      <th></th>\n      <th>PassengerId</th>\n      <th>Survived</th>\n      <th>Pclass</th>\n      <th>Name</th>\n      <th>Sex</th>\n      <th>Age</th>\n      <th>SibSp</th>\n      <th>Parch</th>\n      <th>Fare</th>\n      <th>Embarked</th>\n      <th>family</th>\n      <th>family_size</th>\n    </tr>\n  </thead>\n  <tbody>\n    <tr>\n      <th>0</th>\n      <td>892</td>\n      <td>0</td>\n      <td>3</td>\n      <td>Kelly, Mr. James</td>\n      <td>male</td>\n      <td>34.5</td>\n      <td>0</td>\n      <td>0</td>\n      <td>7.8292</td>\n      <td>Q</td>\n      <td>1</td>\n      <td>Alone</td>\n    </tr>\n    <tr>\n      <th>1</th>\n      <td>893</td>\n      <td>1</td>\n      <td>3</td>\n      <td>Wilkes, Mrs. James (Ellen Needs)</td>\n      <td>female</td>\n      <td>47.0</td>\n      <td>1</td>\n      <td>0</td>\n      <td>7.0000</td>\n      <td>S</td>\n      <td>2</td>\n      <td>Medium</td>\n    </tr>\n    <tr>\n      <th>2</th>\n      <td>894</td>\n      <td>0</td>\n      <td>2</td>\n      <td>Myles, Mr. Thomas Francis</td>\n      <td>male</td>\n      <td>62.0</td>\n      <td>0</td>\n      <td>0</td>\n      <td>9.6875</td>\n      <td>Q</td>\n      <td>1</td>\n      <td>Alone</td>\n    </tr>\n    <tr>\n      <th>3</th>\n      <td>895</td>\n      <td>0</td>\n      <td>3</td>\n      <td>Wirz, Mr. Albert</td>\n      <td>male</td>\n      <td>27.0</td>\n      <td>0</td>\n      <td>0</td>\n      <td>8.6625</td>\n      <td>S</td>\n      <td>1</td>\n      <td>Alone</td>\n    </tr>\n    <tr>\n      <th>4</th>\n      <td>896</td>\n      <td>1</td>\n      <td>3</td>\n      <td>Hirvonen, Mrs. Alexander (Helga E Lindqvist)</td>\n      <td>female</td>\n      <td>22.0</td>\n      <td>1</td>\n      <td>1</td>\n      <td>12.2875</td>\n      <td>S</td>\n      <td>3</td>\n      <td>Medium</td>\n    </tr>\n  </tbody>\n</table>\n</div>"
          },
          "metadata": {}
        }
      ],
      "execution_count": null
    },
    {
      "cell_type": "code",
      "source": [
        "test.drop(columns=['SibSp','Parch','family'],inplace=True)"
      ],
      "metadata": {
        "trusted": true,
        "id": "_he2mBQBKhQ8"
      },
      "outputs": [],
      "execution_count": null
    },
    {
      "cell_type": "code",
      "source": [
        "test.isnull().sum()"
      ],
      "metadata": {
        "trusted": true,
        "id": "vjXozXXRKhQ9",
        "outputId": "3779a028-19f3-4a68-f984-c265b3207839"
      },
      "outputs": [
        {
          "execution_count": 283,
          "output_type": "execute_result",
          "data": {
            "text/plain": "PassengerId    0\nSurvived       0\nPclass         0\nName           0\nSex            0\nAge            0\nFare           0\nEmbarked       0\nfamily_size    0\ndtype: int64"
          },
          "metadata": {}
        }
      ],
      "execution_count": null
    },
    {
      "cell_type": "code",
      "source": [
        "print(test.shape)"
      ],
      "metadata": {
        "trusted": true,
        "id": "eLhM7ulBKhQ9",
        "outputId": "3e973bed-dd9f-4880-fb5b-38846b607cdf"
      },
      "outputs": [
        {
          "name": "stdout",
          "text": "(418, 9)\n",
          "output_type": "stream"
        }
      ],
      "execution_count": null
    },
    {
      "cell_type": "code",
      "source": [
        "passengerId=test['PassengerId'].values"
      ],
      "metadata": {
        "trusted": true,
        "id": "K5VY8GOyKhQ-"
      },
      "outputs": [],
      "execution_count": null
    },
    {
      "cell_type": "code",
      "source": [
        "test.drop(columns=['Name','PassengerId'],inplace=True)"
      ],
      "metadata": {
        "trusted": true,
        "id": "2mvCiTFzKhQ-"
      },
      "outputs": [],
      "execution_count": null
    },
    {
      "cell_type": "code",
      "source": [
        "test.isnull().sum()"
      ],
      "metadata": {
        "trusted": true,
        "id": "HN8yPDOOKhQ-",
        "outputId": "46dfec2d-18f6-44d9-f171-529e48add005"
      },
      "outputs": [
        {
          "execution_count": 287,
          "output_type": "execute_result",
          "data": {
            "text/plain": "Survived       0\nPclass         0\nSex            0\nAge            0\nFare           0\nEmbarked       0\nfamily_size    0\ndtype: int64"
          },
          "metadata": {}
        }
      ],
      "execution_count": null
    },
    {
      "cell_type": "code",
      "source": [
        "test.shape"
      ],
      "metadata": {
        "trusted": true,
        "id": "Sd8o5XECKhQ_",
        "outputId": "a521b0af-36b0-43f4-b689-99247fc5d0cc"
      },
      "outputs": [
        {
          "execution_count": 288,
          "output_type": "execute_result",
          "data": {
            "text/plain": "(418, 7)"
          },
          "metadata": {}
        }
      ],
      "execution_count": null
    },
    {
      "cell_type": "code",
      "source": [
        "pd.get_dummies(test,columns=['Pclass','Sex','Embarked','family_size'],drop_first=True)"
      ],
      "metadata": {
        "trusted": true,
        "id": "DXWaPdgRKhRH",
        "outputId": "19ba56a0-0554-459e-d78c-22ccbf8caf02"
      },
      "outputs": [
        {
          "execution_count": 289,
          "output_type": "execute_result",
          "data": {
            "text/plain": "     Survived   Age      Fare  Pclass_2  Pclass_3  Sex_male  Embarked_Q  \\\n0           0  34.5    7.8292         0         1         1           1   \n1           1  47.0    7.0000         0         1         0           0   \n2           0  62.0    9.6875         1         0         1           1   \n3           0  27.0    8.6625         0         1         1           0   \n4           1  22.0   12.2875         0         1         0           0   \n..        ...   ...       ...       ...       ...       ...         ...   \n413         0  29.0    8.0500         0         1         1           0   \n414         1  39.0  108.9000         0         0         0           0   \n415         0  38.5    7.2500         0         1         1           0   \n416         0  27.0    8.0500         0         1         1           0   \n417         0  28.0   22.3583         0         1         1           0   \n\n     Embarked_S  family_size_Large  family_size_Medium  \n0             0                  0                   0  \n1             1                  0                   1  \n2             0                  0                   0  \n3             1                  0                   0  \n4             1                  0                   1  \n..          ...                ...                 ...  \n413           1                  0                   0  \n414           0                  0                   0  \n415           1                  0                   0  \n416           1                  0                   0  \n417           0                  0                   1  \n\n[418 rows x 10 columns]",
            "text/html": "<div>\n<style scoped>\n    .dataframe tbody tr th:only-of-type {\n        vertical-align: middle;\n    }\n\n    .dataframe tbody tr th {\n        vertical-align: top;\n    }\n\n    .dataframe thead th {\n        text-align: right;\n    }\n</style>\n<table border=\"1\" class=\"dataframe\">\n  <thead>\n    <tr style=\"text-align: right;\">\n      <th></th>\n      <th>Survived</th>\n      <th>Age</th>\n      <th>Fare</th>\n      <th>Pclass_2</th>\n      <th>Pclass_3</th>\n      <th>Sex_male</th>\n      <th>Embarked_Q</th>\n      <th>Embarked_S</th>\n      <th>family_size_Large</th>\n      <th>family_size_Medium</th>\n    </tr>\n  </thead>\n  <tbody>\n    <tr>\n      <th>0</th>\n      <td>0</td>\n      <td>34.5</td>\n      <td>7.8292</td>\n      <td>0</td>\n      <td>1</td>\n      <td>1</td>\n      <td>1</td>\n      <td>0</td>\n      <td>0</td>\n      <td>0</td>\n    </tr>\n    <tr>\n      <th>1</th>\n      <td>1</td>\n      <td>47.0</td>\n      <td>7.0000</td>\n      <td>0</td>\n      <td>1</td>\n      <td>0</td>\n      <td>0</td>\n      <td>1</td>\n      <td>0</td>\n      <td>1</td>\n    </tr>\n    <tr>\n      <th>2</th>\n      <td>0</td>\n      <td>62.0</td>\n      <td>9.6875</td>\n      <td>1</td>\n      <td>0</td>\n      <td>1</td>\n      <td>1</td>\n      <td>0</td>\n      <td>0</td>\n      <td>0</td>\n    </tr>\n    <tr>\n      <th>3</th>\n      <td>0</td>\n      <td>27.0</td>\n      <td>8.6625</td>\n      <td>0</td>\n      <td>1</td>\n      <td>1</td>\n      <td>0</td>\n      <td>1</td>\n      <td>0</td>\n      <td>0</td>\n    </tr>\n    <tr>\n      <th>4</th>\n      <td>1</td>\n      <td>22.0</td>\n      <td>12.2875</td>\n      <td>0</td>\n      <td>1</td>\n      <td>0</td>\n      <td>0</td>\n      <td>1</td>\n      <td>0</td>\n      <td>1</td>\n    </tr>\n    <tr>\n      <th>...</th>\n      <td>...</td>\n      <td>...</td>\n      <td>...</td>\n      <td>...</td>\n      <td>...</td>\n      <td>...</td>\n      <td>...</td>\n      <td>...</td>\n      <td>...</td>\n      <td>...</td>\n    </tr>\n    <tr>\n      <th>413</th>\n      <td>0</td>\n      <td>29.0</td>\n      <td>8.0500</td>\n      <td>0</td>\n      <td>1</td>\n      <td>1</td>\n      <td>0</td>\n      <td>1</td>\n      <td>0</td>\n      <td>0</td>\n    </tr>\n    <tr>\n      <th>414</th>\n      <td>1</td>\n      <td>39.0</td>\n      <td>108.9000</td>\n      <td>0</td>\n      <td>0</td>\n      <td>0</td>\n      <td>0</td>\n      <td>0</td>\n      <td>0</td>\n      <td>0</td>\n    </tr>\n    <tr>\n      <th>415</th>\n      <td>0</td>\n      <td>38.5</td>\n      <td>7.2500</td>\n      <td>0</td>\n      <td>1</td>\n      <td>1</td>\n      <td>0</td>\n      <td>1</td>\n      <td>0</td>\n      <td>0</td>\n    </tr>\n    <tr>\n      <th>416</th>\n      <td>0</td>\n      <td>27.0</td>\n      <td>8.0500</td>\n      <td>0</td>\n      <td>1</td>\n      <td>1</td>\n      <td>0</td>\n      <td>1</td>\n      <td>0</td>\n      <td>0</td>\n    </tr>\n    <tr>\n      <th>417</th>\n      <td>0</td>\n      <td>28.0</td>\n      <td>22.3583</td>\n      <td>0</td>\n      <td>1</td>\n      <td>1</td>\n      <td>0</td>\n      <td>0</td>\n      <td>0</td>\n      <td>1</td>\n    </tr>\n  </tbody>\n</table>\n<p>418 rows × 10 columns</p>\n</div>"
          },
          "metadata": {}
        }
      ],
      "execution_count": null
    },
    {
      "cell_type": "code",
      "source": [
        "test.shape"
      ],
      "metadata": {
        "trusted": true,
        "id": "chsM4wcKKhRI",
        "outputId": "94d5ceed-55fd-4acc-e50d-e91c2f2aab23"
      },
      "outputs": [
        {
          "execution_count": 290,
          "output_type": "execute_result",
          "data": {
            "text/plain": "(418, 7)"
          },
          "metadata": {}
        }
      ],
      "execution_count": null
    },
    {
      "cell_type": "code",
      "source": [
        "X=test.iloc[:,1:].values\n",
        "y=test.iloc[:,0].values"
      ],
      "metadata": {
        "trusted": true,
        "id": "6IAPdEKmKhRI"
      },
      "outputs": [],
      "execution_count": null
    },
    {
      "cell_type": "code",
      "source": [
        "from sklearn.model_selection import test_split\n",
        "X_test,y_test=test_split(X,y,test_size=0.2)"
      ],
      "metadata": {
        "trusted": true,
        "id": "qTCmPI2PKhRJ"
      },
      "outputs": [],
      "execution_count": null
    },
    {
      "cell_type": "code",
      "source": [
        "from sklearn.tree import DecisionTreeClassifier\n",
        "classifier = DecisionTreeClassifier()"
      ],
      "metadata": {
        "trusted": true,
        "id": "5QqTxCE1KhRJ"
      },
      "outputs": [],
      "execution_count": null
    },
    {
      "cell_type": "code",
      "source": [
        "classifier.fit(X_test,y_test)"
      ],
      "metadata": {
        "trusted": true,
        "id": "o5b9a_3wKhRK"
      },
      "outputs": [],
      "execution_count": null
    },
    {
      "cell_type": "code",
      "source": [
        "y_pred=classifier.predict(X_test)"
      ],
      "metadata": {
        "trusted": true,
        "id": "-PSLDyKVKhRK"
      },
      "outputs": [],
      "execution_count": null
    },
    {
      "cell_type": "code",
      "source": [
        "from sklearn.metrics import accuracy_score\n",
        "accuracy_score(y_pred,y_test)"
      ],
      "metadata": {
        "trusted": true,
        "id": "UdNgojs4KhRL"
      },
      "outputs": [],
      "execution_count": null
    },
    {
      "cell_type": "code",
      "source": [
        "Xf = test.iloc[:,:].values"
      ],
      "metadata": {
        "trusted": true,
        "id": "TQI0-rVGKhRL"
      },
      "outputs": [],
      "execution_count": null
    },
    {
      "cell_type": "code",
      "source": [
        "y_final=classifier.predict(Xf)"
      ],
      "metadata": {
        "trusted": true,
        "id": "rxkD8YCAKhRM"
      },
      "outputs": [],
      "execution_count": null
    },
    {
      "cell_type": "code",
      "source": [
        "y_final.shape"
      ],
      "metadata": {
        "trusted": true,
        "id": "daNVwa9wKhRM"
      },
      "outputs": [],
      "execution_count": null
    },
    {
      "cell_type": "code",
      "source": [
        "passengerId.shape"
      ],
      "metadata": {
        "trusted": true,
        "id": "RGyevVLRKhRN",
        "outputId": "5f5370d0-8c13-4f44-92e6-8cedc696ccd5"
      },
      "outputs": [
        {
          "execution_count": 300,
          "output_type": "execute_result",
          "data": {
            "text/plain": "(418,)"
          },
          "metadata": {}
        }
      ],
      "execution_count": null
    },
    {
      "cell_type": "code",
      "source": [
        "final = pd.DataFrame()"
      ],
      "metadata": {
        "trusted": true,
        "id": "55uAJIH2KhRN"
      },
      "outputs": [],
      "execution_count": null
    },
    {
      "cell_type": "code",
      "source": [
        "final"
      ],
      "metadata": {
        "trusted": true,
        "id": "JlClc724KhRN",
        "outputId": "56ca0aef-9881-4faa-e35a-22e8f9a91da6"
      },
      "outputs": [
        {
          "execution_count": 302,
          "output_type": "execute_result",
          "data": {
            "text/plain": "Empty DataFrame\nColumns: []\nIndex: []",
            "text/html": "<div>\n<style scoped>\n    .dataframe tbody tr th:only-of-type {\n        vertical-align: middle;\n    }\n\n    .dataframe tbody tr th {\n        vertical-align: top;\n    }\n\n    .dataframe thead th {\n        text-align: right;\n    }\n</style>\n<table border=\"1\" class=\"dataframe\">\n  <thead>\n    <tr style=\"text-align: right;\">\n      <th></th>\n    </tr>\n  </thead>\n  <tbody>\n  </tbody>\n</table>\n</div>"
          },
          "metadata": {}
        }
      ],
      "execution_count": null
    },
    {
      "cell_type": "code",
      "source": [
        "final['passengerId']=passengerId\n",
        "final['survived']=y_final"
      ],
      "metadata": {
        "trusted": true,
        "id": "AP_V7FI2KhRO"
      },
      "outputs": [],
      "execution_count": null
    },
    {
      "cell_type": "code",
      "source": [
        "final"
      ],
      "metadata": {
        "trusted": true,
        "id": "czQpbvZAKhRP",
        "outputId": "8626e84b-a810-48b6-db55-ade83f4efa00"
      },
      "outputs": [
        {
          "execution_count": 304,
          "output_type": "execute_result",
          "data": {
            "text/plain": "     passengerId\n0            892\n1            893\n2            894\n3            895\n4            896\n..           ...\n413         1305\n414         1306\n415         1307\n416         1308\n417         1309\n\n[418 rows x 1 columns]",
            "text/html": "<div>\n<style scoped>\n    .dataframe tbody tr th:only-of-type {\n        vertical-align: middle;\n    }\n\n    .dataframe tbody tr th {\n        vertical-align: top;\n    }\n\n    .dataframe thead th {\n        text-align: right;\n    }\n</style>\n<table border=\"1\" class=\"dataframe\">\n  <thead>\n    <tr style=\"text-align: right;\">\n      <th></th>\n      <th>passengerId</th>\n    </tr>\n  </thead>\n  <tbody>\n    <tr>\n      <th>0</th>\n      <td>892</td>\n    </tr>\n    <tr>\n      <th>1</th>\n      <td>893</td>\n    </tr>\n    <tr>\n      <th>2</th>\n      <td>894</td>\n    </tr>\n    <tr>\n      <th>3</th>\n      <td>895</td>\n    </tr>\n    <tr>\n      <th>4</th>\n      <td>896</td>\n    </tr>\n    <tr>\n      <th>...</th>\n      <td>...</td>\n    </tr>\n    <tr>\n      <th>413</th>\n      <td>1305</td>\n    </tr>\n    <tr>\n      <th>414</th>\n      <td>1306</td>\n    </tr>\n    <tr>\n      <th>415</th>\n      <td>1307</td>\n    </tr>\n    <tr>\n      <th>416</th>\n      <td>1308</td>\n    </tr>\n    <tr>\n      <th>417</th>\n      <td>1309</td>\n    </tr>\n  </tbody>\n</table>\n<p>418 rows × 1 columns</p>\n</div>"
          },
          "metadata": {}
        }
      ],
      "execution_count": null
    },
    {
      "cell_type": "code",
      "source": [
        "final.to_csv('submission.csv',index=False)"
      ],
      "metadata": {
        "trusted": true,
        "id": "UPMixXc2KhRP"
      },
      "outputs": [],
      "execution_count": null
    },
    {
      "cell_type": "code",
      "source": [],
      "metadata": {
        "trusted": true,
        "id": "vvYJxy-QKhRQ"
      },
      "outputs": [],
      "execution_count": null
    }
  ]
}